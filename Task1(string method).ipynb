{
 "cells": [
  {
   "cell_type": "markdown",
   "id": "4ec5e638-e419-4218-888e-526b08931190",
   "metadata": {},
   "source": [
    "# string method\n",
    "## string captitalized method character convert first letter uppercase"
   ]
  },
  {
   "cell_type": "code",
   "execution_count": 1,
   "id": "8138b650-dc3f-4294-b134-6772eacba24d",
   "metadata": {},
   "outputs": [
    {
     "name": "stdout",
     "output_type": "stream",
     "text": [
      " phython is programming language\n"
     ]
    }
   ],
   "source": [
    "str1 = ' phython is programming language'\n",
    "sentence = str1.capitalize()\n",
    "print(sentence)"
   ]
  },
  {
   "cell_type": "markdown",
   "id": "5fd75c40-2591-463b-b828-cf87f47dd4de",
   "metadata": {},
   "source": [
    "## string casefold method character convert first letter lowercase"
   ]
  },
  {
   "cell_type": "code",
   "execution_count": 2,
   "id": "53dc3bde-8d9a-47d3-9dd1-fab48baf67b6",
   "metadata": {},
   "outputs": [
    {
     "name": "stdout",
     "output_type": "stream",
     "text": [
      " phython is programming language\n"
     ]
    }
   ],
   "source": [
    "str2 = ' Phython is programming language'\n",
    "sentence = str1.casefold()\n",
    "print(sentence)"
   ]
  },
  {
   "cell_type": "markdown",
   "id": "0b4de36f-2d2a-405d-908b-3427a82712b2",
   "metadata": {},
   "source": [
    "## string center method character convert first letter center"
   ]
  },
  {
   "cell_type": "code",
   "execution_count": 12,
   "id": "96bda5aa-db9a-486f-b703-95e3c46568db",
   "metadata": {},
   "outputs": [
    {
     "name": "stdout",
     "output_type": "stream",
     "text": [
      "            APPLE             \n"
     ]
    }
   ],
   "source": [
    "str3  = 'APPLE'\n",
    "sentence = str3.center(30)\n",
    "print(sentence)"
   ]
  },
  {
   "cell_type": "markdown",
   "id": "0ea3347a-e4bd-491c-9688-bb11031fa4ec",
   "metadata": {},
   "source": [
    "## string end with specific that returns true or false"
   ]
  },
  {
   "cell_type": "code",
   "execution_count": 4,
   "id": "0b29e7fd-be7e-45c5-ae72-5cb739277edc",
   "metadata": {},
   "outputs": [
    {
     "name": "stdout",
     "output_type": "stream",
     "text": [
      "False\n"
     ]
    }
   ],
   "source": [
    "str5 = \"Hello, welcome to my world.\"\n",
    "sentence= str5.endswith(\",\")\n",
    "print(sentence)"
   ]
  },
  {
   "cell_type": "code",
   "execution_count": 5,
   "id": "ceaf6edc-97e1-4c64-9580-68396528927f",
   "metadata": {},
   "outputs": [
    {
     "name": "stdout",
     "output_type": "stream",
     "text": [
      "True\n"
     ]
    }
   ],
   "source": [
    "str5 = \"Hello, welcome to my world.\"\n",
    "sentence= str5.endswith(\".\")\n",
    "print(sentence)"
   ]
  },
  {
   "cell_type": "markdown",
   "id": "2ee665b4-c8e3-4351-a3f6-8483f85f6079",
   "metadata": {},
   "source": [
    "## string count method character"
   ]
  },
  {
   "cell_type": "code",
   "execution_count": 11,
   "id": "5aa9ee30-bab4-42b7-a1fd-489954b15a8e",
   "metadata": {},
   "outputs": [
    {
     "name": "stdout",
     "output_type": "stream",
     "text": [
      "2\n"
     ]
    }
   ],
   "source": [
    "str4 = 'my mango are my favourite fruit'\n",
    "sentence = str4.count('my')\n",
    "print(sentence)"
   ]
  },
  {
   "cell_type": "markdown",
   "id": "57277b67-ca51-4646-a8a6-a3bc68951a71",
   "metadata": {},
   "source": [
    "## string find method character"
   ]
  },
  {
   "cell_type": "code",
   "execution_count": 9,
   "id": "1e7b1cb2-3e45-4c81-8ace-c1fbe662b8fb",
   "metadata": {},
   "outputs": [
    {
     "name": "stdout",
     "output_type": "stream",
     "text": [
      "16\n"
     ]
    }
   ],
   "source": [
    "str6 = 'Hello , my name is Dimple'\n",
    "sentence = str6.find('is')\n",
    "print(sentence)"
   ]
  },
  {
   "cell_type": "markdown",
   "id": "1d546408-c8a4-4d67-8ea1-a2e5bc619ab3",
   "metadata": {},
   "source": [
    "## string format method character"
   ]
  },
  {
   "cell_type": "code",
   "execution_count": 14,
   "id": "4c7122f6-31a0-4157-a2ef-8529dc830fd4",
   "metadata": {},
   "outputs": [
    {
     "name": "stdout",
     "output_type": "stream",
     "text": [
      "for only  46.000 dollars!\n"
     ]
    }
   ],
   "source": [
    "str7 = 'for only {price: .3f} dollars!'\n",
    "print(str7.format(price = 46))"
   ]
  },
  {
   "cell_type": "markdown",
   "id": "7e2a6ffa-1b33-4d52-95b0-2967dec64f8a",
   "metadata": {},
   "source": [
    "## string Index method"
   ]
  },
  {
   "cell_type": "code",
   "execution_count": 18,
   "id": "be95149a-0460-49e3-99a6-e182073027ba",
   "metadata": {},
   "outputs": [
    {
     "name": "stdout",
     "output_type": "stream",
     "text": [
      "3\n"
     ]
    }
   ],
   "source": [
    "str8 = 'this is a DA class'\n",
    "sentence = str8.index('s')\n",
    "print(sentence)"
   ]
  },
  {
   "cell_type": "markdown",
   "id": "767fd429-3b47-4491-9fd7-75eef2248094",
   "metadata": {},
   "source": [
    "## string Join Method"
   ]
  },
  {
   "cell_type": "code",
   "execution_count": 21,
   "id": "ec808f3c-9f1d-44d2-8f58-e155f9b5c099",
   "metadata": {},
   "outputs": [
    {
     "name": "stdout",
     "output_type": "stream",
     "text": [
      "19+6+6\n"
     ]
    }
   ],
   "source": [
    "str9 = ('19','6','6')\n",
    "sentence = '+'.join(str9)\n",
    "print(sentence)"
   ]
  },
  {
   "cell_type": "markdown",
   "id": "8178709f-9dc4-44d6-abe0-deaed88de1e0",
   "metadata": {},
   "source": [
    "## string ljust method"
   ]
  },
  {
   "cell_type": "code",
   "execution_count": 22,
   "id": "16333242-b5da-4719-8ff3-2c928c4ac2f4",
   "metadata": {},
   "outputs": [
    {
     "name": "stdout",
     "output_type": "stream",
     "text": [
      "Tiger            is national animal\n"
     ]
    }
   ],
   "source": [
    "str10 = 'Tiger'\n",
    "sentence = str10.ljust(16)\n",
    "print(sentence,'is national animal')"
   ]
  },
  {
   "cell_type": "markdown",
   "id": "0abef657-9913-4dfb-98fc-96e10bd1d660",
   "metadata": {},
   "source": [
    "## string lower method"
   ]
  },
  {
   "cell_type": "code",
   "execution_count": 23,
   "id": "b9e476ed-ccfd-43fe-9f6b-9cc9632cc607",
   "metadata": {},
   "outputs": [
    {
     "name": "stdout",
     "output_type": "stream",
     "text": [
      "this is plam tree\n"
     ]
    }
   ],
   "source": [
    "str11 = 'This is Plam tree'\n",
    "sentence = str11.lower()\n",
    "print (sentence)"
   ]
  },
  {
   "cell_type": "markdown",
   "id": "be40268d-59ad-420a-953f-274f130529c5",
   "metadata": {},
   "source": [
    "## string lstrip method (remove spaces to the left of the string)"
   ]
  },
  {
   "cell_type": "code",
   "execution_count": 32,
   "id": "f2f5c1e8-73f6-4eb9-92d4-35a3c0de1005",
   "metadata": {},
   "outputs": [
    {
     "name": "stdout",
     "output_type": "stream",
     "text": [
      "of all fruits orange is my favourite\n"
     ]
    }
   ],
   "source": [
    "str12 = ' orange'\n",
    "sentence = str12.lstrip()\n",
    "print ('of all fruits',sentence,'is my favourite')"
   ]
  },
  {
   "cell_type": "markdown",
   "id": "0ab9808b-068a-4172-b5c9-b3f8f0f59a1f",
   "metadata": {},
   "source": [
    "## string maketrans method"
   ]
  },
  {
   "cell_type": "code",
   "execution_count": 27,
   "id": "917e708d-5efe-4317-952d-f89a5c60bbd1",
   "metadata": {},
   "outputs": [
    {
     "name": "stdout",
     "output_type": "stream",
     "text": [
      "Hello,Pimple\n"
     ]
    }
   ],
   "source": [
    "str13 = 'Hello,Dimple'\n",
    "sentence = str13.maketrans('D','P')\n",
    "print(str13.translate(sentence))"
   ]
  },
  {
   "cell_type": "markdown",
   "id": "9596768f-9f5c-46e8-b33a-68588f59596a",
   "metadata": {},
   "source": [
    "## string Partition method"
   ]
  },
  {
   "cell_type": "code",
   "execution_count": 28,
   "id": "ca37fc6f-f4e0-4461-9c5e-af5815e747ad",
   "metadata": {},
   "outputs": [
    {
     "name": "stdout",
     "output_type": "stream",
     "text": [
      "(' I could eat ', 'apple', ' all day')\n"
     ]
    }
   ],
   "source": [
    "str14 = ' I could eat apple all day'\n",
    "sentence = str14.partition('apple')\n",
    "print(sentence)"
   ]
  },
  {
   "cell_type": "markdown",
   "id": "16474265-932d-4271-8a25-02ed99000182",
   "metadata": {},
   "source": [
    "## string Replace method"
   ]
  },
  {
   "cell_type": "code",
   "execution_count": 30,
   "id": "776117e1-02ff-46e5-b6df-3ea1c96dad14",
   "metadata": {},
   "outputs": [
    {
     "name": "stdout",
     "output_type": "stream",
     "text": [
      " I like Pinnapple\n"
     ]
    }
   ],
   "source": [
    "str15 = ' I like apple'\n",
    "sentence = str15.replace('apple','Pinnapple')\n",
    "print(sentence)"
   ]
  }
 ],
 "metadata": {
  "kernelspec": {
   "display_name": "Python 3 (ipykernel)",
   "language": "python",
   "name": "python3"
  },
  "language_info": {
   "codemirror_mode": {
    "name": "ipython",
    "version": 3
   },
   "file_extension": ".py",
   "mimetype": "text/x-python",
   "name": "python",
   "nbconvert_exporter": "python",
   "pygments_lexer": "ipython3",
   "version": "3.11.7"
  }
 },
 "nbformat": 4,
 "nbformat_minor": 5
}
